{
 "cells": [
  {
   "cell_type": "code",
   "execution_count": 1,
   "metadata": {},
   "outputs": [],
   "source": [
    "import pandas as pd\n",
    "from IDRR_data import *"
   ]
  },
  {
   "cell_type": "code",
   "execution_count": 2,
   "metadata": {},
   "outputs": [],
   "source": [
    "data_path = ''\n",
    "df = IDRRDataFrames(\n",
    "    data_name='pdtb2',\n",
    "    data_level='top',\n",
    "    data_relation='Implicit',\n",
    "    data_path=r'D:\\0--data\\projects\\research_IDRR\\00-IDRR_data\\data\\used\\pdtb2.p1.csv',\n",
    ")"
   ]
  },
  {
   "cell_type": "code",
   "execution_count": 3,
   "metadata": {},
   "outputs": [
    {
     "data": {
      "text/plain": [
       "Index(['index', 'arg1', 'arg2', 'conn1', 'conn2', 'conn1sense1', 'conn1sense2',\n",
       "       'conn2sense1', 'conn2sense2', 'relation', 'split', 'Section',\n",
       "       'FileNumber', 'label11', 'label11id', 'label12', 'label12id', 'label21',\n",
       "       'label21id', 'label22', 'label22id', 'ans_word1', 'ans_word1id',\n",
       "       'ans_word2', 'ans_word2id'],\n",
       "      dtype='object')"
      ]
     },
     "execution_count": 3,
     "metadata": {},
     "output_type": "execute_result"
    }
   ],
   "source": [
    "df.train_df.columns"
   ]
  },
  {
   "cell_type": "code",
   "execution_count": 4,
   "metadata": {},
   "outputs": [
    {
     "data": {
      "text/plain": [
       "index                                                       1183\n",
       "arg1           In an Oct. 19 review of \"The Misanthrope\" at C...\n",
       "arg2                                      Ms. Haag plays Elianti\n",
       "conn1                                                    however\n",
       "conn2                                                        NaN\n",
       "conn1sense1                    Comparison.Contrast.Juxtaposition\n",
       "conn1sense2                                                  NaN\n",
       "conn2sense1                                                  NaN\n",
       "conn2sense2                                                  NaN\n",
       "relation                                                Implicit\n",
       "split                                                      train\n",
       "Section                                                        2\n",
       "FileNumber                                                     0\n",
       "label11                                               Comparison\n",
       "label11id                                                      0\n",
       "label12                                                     <NA>\n",
       "label12id                                                   <NA>\n",
       "label21                                                     <NA>\n",
       "label21id                                                   <NA>\n",
       "label22                                                     <NA>\n",
       "label22id                                                   <NA>\n",
       "ans_word1                                                however\n",
       "ans_word1id                                                    3\n",
       "ans_word2                                                   <NA>\n",
       "ans_word2id                                                 <NA>\n",
       "Name: 0, dtype: object"
      ]
     },
     "execution_count": 4,
     "metadata": {},
     "output_type": "execute_result"
    }
   ],
   "source": [
    "df.train_df.iloc[0]"
   ]
  }
 ],
 "metadata": {
  "kernelspec": {
   "display_name": "python_main",
   "language": "python",
   "name": "python3"
  },
  "language_info": {
   "codemirror_mode": {
    "name": "ipython",
    "version": 3
   },
   "file_extension": ".py",
   "mimetype": "text/x-python",
   "name": "python",
   "nbconvert_exporter": "python",
   "pygments_lexer": "ipython3",
   "version": "3.10.12"
  }
 },
 "nbformat": 4,
 "nbformat_minor": 2
}
